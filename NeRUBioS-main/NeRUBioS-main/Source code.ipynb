{
  "cells": [
    {
      "cell_type": "markdown",
      "metadata": {
        "id": "view-in-github",
        "colab_type": "text"
      },
      "source": [
        "<a href=\"https://colab.research.google.com/github/ajtamayoh/NeRUBioS/blob/main/Source%20code.ipynb\" target=\"_parent\"><img src=\"https://colab.research.google.com/assets/colab-badge.svg\" alt=\"Open In Colab\"/></a>"
      ]
    },
    {
      "cell_type": "markdown",
      "metadata": {
        "id": "Nml9hXt1NHXr"
      },
      "source": [
        "## Source code for the paper:\n",
        "\n",
        "Augmenting a Spanish Clinical Dataset for Transformer-Based Linking of Negations and their Out-of-Scope References\n",
        "\n",
        "Authors:\n",
        "\n",
        "Antonio Tamayo (ajtamayo2019@ipn.cic.mx, ajtamayoh@gmail.com)\n",
        "\n",
        "Diego A. Burgos (burgosda@wfu.edu)\n",
        "\n",
        "Alexander Gelbulkh (gelbukh@gelbukh.com)\n",
        "\n",
        "For bugs or questions related to the code, do not hesitate to contact us (Antonio Tamayo: ajtamayoh@gmail.com)\n",
        "\n",
        "If you use this code please cite our work:\n",
        "\n",
        "Comming soon..."
      ]
    },
    {
      "cell_type": "markdown",
      "source": [
        "# Requirements\n",
        "\n",
        "To run this code you need to download the dataset (three partitions: NeRUBioS_train.json, NeRUBioS_dev.json and NeRUBioS_test.json) at: [NeRUBioS dataset](https://github.com/ajtamayoh/NeRUBioS/tree/main/NeRUBios%20dataset)\n",
        "\n",
        "Then, you must create a folder called \"Datasets\" in the root of your Google Drive and load there the three files previously downloaded.\n",
        "\n",
        "Once the dataset is ready to use, you should [open this notebook in colab](https://colab.research.google.com/github/ajtamayoh/NeRUBioS/blob/main/Source%20code.ipynb) and save a copy in your Google Drive."
      ],
      "metadata": {
        "id": "fFW4UmnsTk7Z"
      }
    },
    {
      "cell_type": "markdown",
      "metadata": {
        "id": "3gGu8XvkQuHU"
      },
      "source": [
        "## About the infrastructure"
      ]
    },
    {
      "cell_type": "code",
      "execution_count": null,
      "metadata": {
        "id": "9YCD8Yn8QvCr"
      },
      "outputs": [],
      "source": [
        "gpu_info = !nvidia-smi\n",
        "gpu_info = '\\n'.join(gpu_info)\n",
        "if gpu_info.find('failed') >= 0:\n",
        "  print('Not connected to a GPU')\n",
        "else:\n",
        "  print(gpu_info)"
      ]
    },
    {
      "cell_type": "code",
      "execution_count": null,
      "metadata": {
        "id": "PDijHzOMQzwA"
      },
      "outputs": [],
      "source": [
        "from psutil import virtual_memory\n",
        "ram_gb = virtual_memory().total / 1e9\n",
        "print('Your runtime has {:.1f} gigabytes of available RAM\\n'.format(ram_gb))\n",
        "\n",
        "if ram_gb < 20:\n",
        "  print('Not using a high-RAM runtime')\n",
        "else:\n",
        "  print('You are using a high-RAM runtime!')"
      ]
    },
    {
      "cell_type": "markdown",
      "metadata": {
        "id": "U64pk_flQ-nw"
      },
      "source": [
        "## Connecting to Google drive"
      ]
    },
    {
      "cell_type": "code",
      "execution_count": null,
      "metadata": {
        "id": "rgzIfAnfaDR1"
      },
      "outputs": [],
      "source": [
        "from google.colab import drive\n",
        "drive.mount('/content/drive')"
      ]
    },
    {
      "cell_type": "markdown",
      "metadata": {
        "id": "9RIR3iRCUc0h"
      },
      "source": [
        "## Out-of-scope negation references identification and linking as a token classification problem\n",
        "\n",
        "\n"
      ]
    },
    {
      "cell_type": "markdown",
      "metadata": {
        "id": "V1ncKARiLoRQ"
      },
      "source": [
        "### Exploring & Preprocessing Data"
      ]
    },
    {
      "cell_type": "code",
      "execution_count": null,
      "metadata": {
        "id": "wZaPi7EMLrz8"
      },
      "outputs": [],
      "source": [
        "import pandas as pd\n",
        "import numpy as np\n",
        "import spacy"
      ]
    },
    {
      "cell_type": "markdown",
      "metadata": {
        "id": "1WaBFjAEUc0l"
      },
      "source": [
        "### Install the Transformers and Datasets libraries to run this notebook."
      ]
    },
    {
      "cell_type": "code",
      "execution_count": null,
      "metadata": {
        "id": "zEX7xfLiUc0m"
      },
      "outputs": [],
      "source": [
        "!pip install datasets transformers[sentencepiece]\n",
        "!pip install accelerate\n",
        "# To run the training on TPU, you will need to uncomment the followin line:\n",
        "# !pip install cloud-tpu-client==0.10 torch==1.9.0 https://storage.googleapis.com/tpu-pytorch/wheels/torch_xla-1.9-cp37-cp37m-linux_x86_64.whl\n",
        "!apt install git-lfs\n",
        "!pip install seqeval"
      ]
    },
    {
      "cell_type": "markdown",
      "metadata": {
        "id": "lwdiziJLfeCL"
      },
      "source": [
        "## Hugging Face Authentication\n",
        "\n",
        "If you want to save your own model and make it available online we strongly recommend signing up at: https://huggingface.co/\n",
        "\n",
        "You will need to setup git, adapt your email and name in the following cell."
      ]
    },
    {
      "cell_type": "code",
      "execution_count": null,
      "metadata": {
        "id": "Hstit1gRUc0o"
      },
      "outputs": [],
      "source": [
        "!git config --global user.email \"your@email\"\n",
        "!git config --global user.name \"your_username\""
      ]
    },
    {
      "cell_type": "markdown",
      "metadata": {
        "id": "AAD__fyEgJoZ"
      },
      "source": [
        "You will also need to be logged in to the Hugging Face Hub. Execute the following and enter your credentials."
      ]
    },
    {
      "cell_type": "code",
      "execution_count": null,
      "metadata": {
        "id": "G6SkGUEUUc0p"
      },
      "outputs": [],
      "source": [
        "from huggingface_hub import notebook_login\n",
        "\n",
        "notebook_login()"
      ]
    },
    {
      "cell_type": "markdown",
      "metadata": {
        "id": "hWNPXZ0k_GuY"
      },
      "source": [
        "## Loading the Dataset"
      ]
    },
    {
      "cell_type": "code",
      "execution_count": null,
      "metadata": {
        "id": "ksQ6lung4hU0"
      },
      "outputs": [],
      "source": [
        "from datasets import load_dataset\n",
        "import json\n",
        "\n",
        "# NeRUBioS dataset\n",
        "nerubios_dataset_train = load_dataset(\"json\", data_files=\"/content/drive/MyDrive/Datasets/NeRUBioS_train.json\", field=\"data\")\n",
        "nerubios_dataset_dev = load_dataset(\"json\", data_files=\"/content/drive/MyDrive/Datasets/NeRUBioS_dev.json\", field=\"data\")\n",
        "nerubios_dataset_test = load_dataset(\"json\", data_files=\"/content/drive/MyDrive/Datasets/NeRUBioS_test.json\", field=\"data\")"
      ]
    },
    {
      "cell_type": "code",
      "execution_count": null,
      "metadata": {
        "id": "SMZbF0mSaOiS"
      },
      "outputs": [],
      "source": [
        "from datasets import DatasetDict\n",
        "#For training, development, and testing partitions\n",
        "raw_datasets = DatasetDict({\n",
        "    'train': nerubios_dataset_train['train'],\n",
        "    'validation': nerubios_dataset_dev['train'],\n",
        "    'test': nerubios_dataset_test['train']\n",
        "    })"
      ]
    },
    {
      "cell_type": "code",
      "execution_count": null,
      "metadata": {
        "id": "AFQfd5u9Uc0q"
      },
      "outputs": [],
      "source": [
        "raw_datasets"
      ]
    },
    {
      "cell_type": "code",
      "source": [
        "# NeRUBioS tagset\n",
        "\n",
        "# 0 -> Outside ('O')\n",
        "# 1 -> 'B-NegREF'\n",
        "# 2 -> 'I-NegREF'\n",
        "# 3 -> 'B-NEG'\n",
        "# 4 -> 'I-NEG'\n",
        "# 5 -> 'B-NSCO'\n",
        "# 6 -> 'I-NSCO'\n",
        "# 7 -> 'B-UNC'\n",
        "# 8 -> 'I-UNC'\n",
        "# 9 -> 'B-USCO'\n",
        "# 10 -> 'I-USCO'\n",
        "\n",
        "label_names = [\"O\", \"B-NegREF\", \"I-NegREF\", \"B-NEG\", \"I-NEG\", \"B-NSCO\", \"I-NSCO\", \"B-UNC\", \"I-UNC\", \"B-USCO\", \"I-USCO\"]\n",
        "label_names"
      ],
      "metadata": {
        "id": "DXB3NbcN_mFG"
      },
      "execution_count": null,
      "outputs": []
    },
    {
      "cell_type": "code",
      "execution_count": null,
      "metadata": {
        "id": "2iCYOiwZUc0u"
      },
      "outputs": [],
      "source": [
        "def show_sample_aligned(words, labels):\n",
        "  \n",
        "  line1 = \"\"\n",
        "  line2 = \"\"\n",
        "  for word, label in zip(words, labels):\n",
        "      full_label = label_names[label]\n",
        "      max_length = max(len(word), len(full_label))\n",
        "      line1 += word + \" \" * (max_length - len(word) + 1)\n",
        "      line2 += full_label + \" \" * (max_length - len(full_label) + 1)\n",
        "\n",
        "  print(line1)\n",
        "  print(line2)\n",
        "\n",
        "words = raw_datasets[\"train\"][0][\"tokens\"]\n",
        "labels = [int(n) for n in raw_datasets[\"train\"][0][\"ner_tags\"]]\n",
        "#labels = raw_datasets[\"train\"][0][\"pos_tags\"]\n",
        "#labels = raw_datasets[\"train\"][0][\"chunk_tags\"]\n",
        "show_sample_aligned(words, labels)"
      ]
    },
    {
      "cell_type": "markdown",
      "metadata": {
        "id": "CRKUqAVVbvf7"
      },
      "source": [
        "## Loading mBERT as a pre-trained model"
      ]
    },
    {
      "cell_type": "code",
      "execution_count": null,
      "metadata": {
        "id": "nuZTRxLPUc0v"
      },
      "outputs": [],
      "source": [
        "from transformers import AutoTokenizer\n",
        "\n",
        "model_checkpoint = \"PlanTL-GOB-ES/roberta-base-biomedical-clinical-es\" #Best model\n",
        "#model_checkpoint = \"bert-base-multilingual-cased\"\n",
        "#model_checkpoint = \"dccuchile/bert-base-spanish-wwm-uncased\"\n",
        "\n",
        "tokenizer = AutoTokenizer.from_pretrained(model_checkpoint, add_prefix_space=True)"
      ]
    },
    {
      "cell_type": "code",
      "execution_count": null,
      "metadata": {
        "id": "Kr7qjUe7Uc0v"
      },
      "outputs": [],
      "source": [
        "tokenizer.is_fast"
      ]
    },
    {
      "cell_type": "code",
      "execution_count": null,
      "metadata": {
        "id": "wbchCgPGUc0v"
      },
      "outputs": [],
      "source": [
        "inputs = tokenizer(raw_datasets[\"train\"][0][\"tokens\"], is_split_into_words=True)\n",
        "inputs.tokens()"
      ]
    },
    {
      "cell_type": "code",
      "execution_count": null,
      "metadata": {
        "id": "udiVaGenUc0w"
      },
      "outputs": [],
      "source": [
        "inputs.word_ids()"
      ]
    },
    {
      "cell_type": "code",
      "execution_count": null,
      "metadata": {
        "id": "zhu4Cl3-Uc0w"
      },
      "outputs": [],
      "source": [
        "def align_labels_with_tokens(labels, word_ids):\n",
        "    new_labels = []\n",
        "    current_word = None\n",
        "    for word_id in word_ids:\n",
        "        if word_id != current_word:\n",
        "            # Start of a new word!\n",
        "            current_word = word_id\n",
        "            label = -100 if word_id is None else labels[word_id]\n",
        "            new_labels.append(label)\n",
        "        elif word_id is None:\n",
        "            # Special token\n",
        "            new_labels.append(-100)\n",
        "        else:\n",
        "            # Same word as previous token\n",
        "            label = labels[word_id]\n",
        "            # If the label is B-XXX we change it to I-XXX\n",
        "            if label % 2 == 1:\n",
        "                label += 1\n",
        "            new_labels.append(label)\n",
        "\n",
        "    return new_labels"
      ]
    },
    {
      "cell_type": "code",
      "execution_count": null,
      "metadata": {
        "id": "H820wg0sUc0x"
      },
      "outputs": [],
      "source": [
        "labels = raw_datasets[\"train\"][0][\"ner_tags\"]\n",
        "word_ids = inputs.word_ids()\n",
        "#print(labels)\n",
        "#print(word_ids)\n",
        "print(align_labels_with_tokens(labels, word_ids))"
      ]
    },
    {
      "cell_type": "code",
      "execution_count": null,
      "metadata": {
        "id": "G-ZxnhGSUc0x"
      },
      "outputs": [],
      "source": [
        "def tokenize_and_align_labels(examples):\n",
        "    tokenized_inputs = tokenizer(\n",
        "        examples[\"tokens\"], truncation=True, is_split_into_words=True\n",
        "    )\n",
        "    all_labels = examples[\"ner_tags\"]\n",
        "    new_labels = []\n",
        "    for i, labels in enumerate(all_labels):\n",
        "        word_ids = tokenized_inputs.word_ids(i)\n",
        "        new_labels.append(align_labels_with_tokens(labels, word_ids))\n",
        "\n",
        "    tokenized_inputs[\"labels\"] = new_labels\n",
        "    return tokenized_inputs"
      ]
    },
    {
      "cell_type": "code",
      "execution_count": null,
      "metadata": {
        "id": "INNjCms4Uc0y"
      },
      "outputs": [],
      "source": [
        "tokenized_datasets = raw_datasets.map(\n",
        "    tokenize_and_align_labels,\n",
        "    batched=True,\n",
        "    remove_columns=raw_datasets[\"train\"].column_names,\n",
        ")"
      ]
    },
    {
      "cell_type": "code",
      "execution_count": null,
      "metadata": {
        "id": "lFpUXjvmUc0y"
      },
      "outputs": [],
      "source": [
        "from transformers import DataCollatorForTokenClassification\n",
        "\n",
        "data_collator = DataCollatorForTokenClassification(tokenizer=tokenizer)"
      ]
    },
    {
      "cell_type": "code",
      "execution_count": null,
      "metadata": {
        "id": "VHCuXD5EUc0y"
      },
      "outputs": [],
      "source": [
        "batch = data_collator([tokenized_datasets[\"train\"][i] for i in range(2)])\n",
        "batch[\"labels\"]"
      ]
    },
    {
      "cell_type": "code",
      "execution_count": null,
      "metadata": {
        "id": "i6GW37IPUc0z"
      },
      "outputs": [],
      "source": [
        "for i in range(2):\n",
        "    print(tokenized_datasets[\"train\"][i][\"labels\"])"
      ]
    },
    {
      "cell_type": "code",
      "execution_count": null,
      "metadata": {
        "id": "bDjn2La4Uc0z"
      },
      "outputs": [],
      "source": [
        "from datasets import load_metric\n",
        "\n",
        "metric = load_metric(\"seqeval\")"
      ]
    },
    {
      "cell_type": "code",
      "execution_count": null,
      "metadata": {
        "id": "2mqjInn4Uc0z"
      },
      "outputs": [],
      "source": [
        "labels = raw_datasets[\"train\"][0][\"ner_tags\"]\n",
        "labels = [label_names[i] for i in labels]\n",
        "labels"
      ]
    },
    {
      "cell_type": "code",
      "execution_count": null,
      "metadata": {
        "id": "EIaLt4n-Uc00"
      },
      "outputs": [],
      "source": [
        "predictions = labels.copy()\n",
        "predictions[1] = \"O\"\n",
        "metric.compute(predictions=[predictions], references=[labels])"
      ]
    },
    {
      "cell_type": "code",
      "execution_count": null,
      "metadata": {
        "id": "7xewJhf6Uc00"
      },
      "outputs": [],
      "source": [
        "import numpy as np\n",
        "\n",
        "\n",
        "def compute_metrics(eval_preds):\n",
        "    logits, labels = eval_preds\n",
        "    predictions = np.argmax(logits, axis=-1)\n",
        "\n",
        "    # Remove ignored index (special tokens) and convert to labels\n",
        "    true_labels = [[label_names[l] for l in label if l != -100] for label in labels]\n",
        "    true_predictions = [\n",
        "        [label_names[p] for (p, l) in zip(prediction, label) if l != -100]\n",
        "        for prediction, label in zip(predictions, labels)\n",
        "    ]\n",
        "    all_metrics = metric.compute(predictions=true_predictions, references=true_labels)\n",
        "    \n",
        "    return {\n",
        "        \n",
        "        #Per label\n",
        "        #NegREF\n",
        "        \"NegREF_precision\": all_metrics[\"NegREF\"]['precision'],\n",
        "        \"NegREF_recall\": all_metrics[\"NegREF\"]['recall'],\n",
        "        \"NegREF_F1\": all_metrics[\"NegREF\"]['f1'],\n",
        "        #Negation\n",
        "        \"NEG_precision\": all_metrics[\"NEG\"]['precision'],\n",
        "        \"NEG_recall\": all_metrics[\"NEG\"]['recall'],\n",
        "        \"NEG_F1\": all_metrics[\"NEG\"]['f1'],\n",
        "        \"NSCO_precision\": all_metrics[\"NSCO\"]['precision'],\n",
        "        \"NSCO_recall\": all_metrics[\"NSCO\"]['recall'],\n",
        "        \"NSCO_F1\": all_metrics[\"NSCO\"]['f1'],\n",
        "        #Uncertainty\n",
        "        \"UNC_precision\": all_metrics[\"UNC\"]['precision'],\n",
        "        \"UNC_recall\": all_metrics[\"UNC\"]['recall'],\n",
        "        \"UNC_F1\": all_metrics[\"UNC\"]['f1'],\n",
        "        \"USCO_precision\": all_metrics[\"USCO\"]['precision'],\n",
        "        \"USCO_recall\": all_metrics[\"USCO\"]['recall'],\n",
        "        \"USCO_F1\": all_metrics[\"USCO\"]['f1'],\n",
        "      \n",
        "\n",
        "        #Overall\n",
        "        \"precision\": all_metrics[\"overall_precision\"],\n",
        "        \"recall\": all_metrics[\"overall_recall\"],\n",
        "        \"f1\": all_metrics[\"overall_f1\"],\n",
        "        \"accuracy\": all_metrics[\"overall_accuracy\"],\n",
        "    }"
      ]
    },
    {
      "cell_type": "code",
      "execution_count": null,
      "metadata": {
        "id": "DdmwR_2HUc00"
      },
      "outputs": [],
      "source": [
        "id2label = {str(i): label for i, label in enumerate(label_names)}\n",
        "label2id = {v: k for k, v in id2label.items()}"
      ]
    },
    {
      "cell_type": "code",
      "execution_count": null,
      "metadata": {
        "id": "svP0J1bWs3pK"
      },
      "outputs": [],
      "source": [
        "id2label"
      ]
    },
    {
      "cell_type": "code",
      "execution_count": null,
      "metadata": {
        "id": "zvIvq5wxs8P8"
      },
      "outputs": [],
      "source": [
        "label2id"
      ]
    },
    {
      "cell_type": "markdown",
      "source": [
        "# Training process"
      ],
      "metadata": {
        "id": "RZZpL_8Iqjdq"
      }
    },
    {
      "cell_type": "markdown",
      "metadata": {
        "id": "FKNvor68cVQs"
      },
      "source": [
        "## Changing the head of prediction for OSR + linking + Unc. under the BIO scheme"
      ]
    },
    {
      "cell_type": "code",
      "execution_count": null,
      "metadata": {
        "id": "z9Rrve75Uc00"
      },
      "outputs": [],
      "source": [
        "from transformers import AutoModelForTokenClassification\n",
        "\n",
        "model = AutoModelForTokenClassification.from_pretrained(    \n",
        "    model_checkpoint,\n",
        "    id2label=id2label,\n",
        "    label2id=label2id,\n",
        "    num_labels = 11,   # BIO squeme OSRs + NSD + USD\n",
        ")"
      ]
    },
    {
      "cell_type": "code",
      "execution_count": 1,
      "metadata": {
        "id": "LDiAYqsYUc00"
      },
      "outputs": [],
      "source": [
        "model.config.num_labels"
      ]
    },
    {
      "cell_type": "code",
      "execution_count": null,
      "metadata": {
        "id": "sS-L0U1XUc01"
      },
      "outputs": [],
      "source": [
        "from transformers import TrainingArguments\n",
        "\n",
        "args = TrainingArguments(\n",
        "  \n",
        "    \"NeRUBioS_RoBERTa_Training_Testing\",\n",
        "    \n",
        "    evaluation_strategy=\"epoch\",\n",
        "    save_strategy=\"epoch\",\n",
        "    learning_rate=2e-5, \n",
        "    num_train_epochs=12, \n",
        "    weight_decay=0.1,   \n",
        "    push_to_hub=True,\n",
        ")"
      ]
    },
    {
      "cell_type": "markdown",
      "metadata": {
        "id": "tdHv4CMvctoB"
      },
      "source": [
        "## Fine-tuning mBERT for Negation Scope Detection"
      ]
    },
    {
      "cell_type": "code",
      "execution_count": 1,
      "metadata": {
        "id": "RvHls_JJUc01"
      },
      "outputs": [],
      "source": [
        "from transformers import Trainer\n",
        "import evaluate\n",
        "\n",
        "trainer = Trainer(\n",
        "    model=model,\n",
        "    args=args,\n",
        "    train_dataset=tokenized_datasets[\"train\"],\n",
        "    #eval_dataset=tokenized_datasets[\"validation\"],\n",
        "    eval_dataset=tokenized_datasets[\"test\"],\n",
        "    data_collator=data_collator,\n",
        "    compute_metrics=compute_metrics,\n",
        "    tokenizer=tokenizer,\n",
        ")\n",
        "trainer.train()"
      ]
    },
    {
      "cell_type": "markdown",
      "metadata": {
        "id": "0rGdJ42qc3sh"
      },
      "source": [
        "## Saving the fine-tuned model at Hugging Face (It requires previous authentication)"
      ]
    },
    {
      "cell_type": "code",
      "execution_count": 1,
      "metadata": {
        "id": "TAvTQZClUc01"
      },
      "outputs": [],
      "source": [
        "trainer.push_to_hub(commit_message=\"Fine-tuning completed\")"
      ]
    },
    {
      "cell_type": "markdown",
      "metadata": {
        "id": "SjEM4d77Toxs"
      },
      "source": [
        "## Loading the model for inference"
      ]
    },
    {
      "cell_type": "code",
      "source": [
        "from transformers import pipeline\n",
        "\n",
        "#Replace this with your own checkpoint. If you have run all the previous cells successfully, the model should be available at your hugging face account with the name: NeRUBioS_RoBERTa_Training_Testing\n",
        "\n",
        "model_checkpoint = \"your_huggingface_username/NeRUBioS_RoBERTa_Training_Testing\"\n",
        "\n",
        "token_classifier = pipeline(\n",
        "    \"token-classification\", model=model_checkpoint, grouped_entities=True\n",
        ")"
      ],
      "metadata": {
        "id": "7ekEdrKaaBV1"
      },
      "execution_count": null,
      "outputs": []
    },
    {
      "cell_type": "code",
      "source": [
        "pred = token_classifier(\"El ecocardiograma doppler color no muestra patologia que justifique los síntomas y la paciente evoluciona completamente asintomática y estable.\")\n",
        "\n",
        "for token in pred:\n",
        "    print(token[\"word\"], token[\"entity_group\"])\n",
        "pred"
      ],
      "metadata": {
        "id": "UpKkO_E3aV7e"
      },
      "execution_count": null,
      "outputs": []
    }
  ],
  "metadata": {
    "accelerator": "GPU",
    "colab": {
      "machine_shape": "hm",
      "provenance": [],
      "include_colab_link": true
    },
    "kernelspec": {
      "display_name": "Python 3",
      "name": "python3"
    },
    "language_info": {
      "name": "python"
    }
  },
  "nbformat": 4,
  "nbformat_minor": 0
}